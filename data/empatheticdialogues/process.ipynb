{
 "cells": [
  {
   "cell_type": "code",
   "execution_count": 6,
   "metadata": {},
   "outputs": [],
   "source": [
    "import pandas as pd\n",
    "\n",
    "# Define the emotion map\n",
    "emo_map = {\n",
    "    'surprised': 0, 'excited': 1, 'annoyed': 2, 'proud': 3, 'angry': 4, 'sad': 5, 'grateful': 6, 'lonely': 7,\n",
    "    'impressed': 8, 'afraid': 9, 'disgusted': 10, 'confident': 11, 'terrified': 12, 'hopeful': 13, 'anxious': 14, \n",
    "    'disappointed': 15, 'joyful': 16, 'prepared': 17, 'guilty': 18, 'furious': 19, 'nostalgic': 20, 'jealous': 21, \n",
    "    'anticipating': 22, 'embarrassed': 23, 'content': 24, 'devastated': 25, 'sentimental': 26, 'caring': 27, \n",
    "    'trusting': 28, 'ashamed': 29, 'apprehensive': 30, 'faithful': 31\n",
    "}\n",
    "\n",
    "# Reverse the emotion map to get label names from indices\n",
    "index_to_label = {v + 1: k for k, v in emo_map.items()}  # Adjust index to be 1-based\n",
    "\n",
    "# Read the CSV file\n",
    "df = pd.read_csv('dev.csv')\n",
    "\n",
    "# Replace the label indices with label names\n",
    "df['label'] = df['label'].map(index_to_label)\n",
    "\n",
    "# Rename 'content' column to 'text'\n",
    "df.rename(columns={'content': 'text'}, inplace=True)\n",
    "\n",
    "# Save the updated DataFrame to a TSV file with the columns in the correct order\n",
    "df[['text', 'label']].to_csv('dev.tsv', sep='\\t', index=False)\n"
   ]
  }
 ],
 "metadata": {
  "kernelspec": {
   "display_name": "gcd",
   "language": "python",
   "name": "python3"
  },
  "language_info": {
   "codemirror_mode": {
    "name": "ipython",
    "version": 3
   },
   "file_extension": ".py",
   "mimetype": "text/x-python",
   "name": "python",
   "nbconvert_exporter": "python",
   "pygments_lexer": "ipython3",
   "version": "3.8.19"
  }
 },
 "nbformat": 4,
 "nbformat_minor": 2
}
