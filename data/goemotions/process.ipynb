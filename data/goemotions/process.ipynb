{
 "cells": [
  {
   "cell_type": "code",
   "execution_count": 3,
   "metadata": {},
   "outputs": [],
   "source": [
    "import pandas as pd\n",
    "\n",
    "# Define the list of emotions\n",
    "emotions = [\n",
    "    'admiration', 'amusement', 'anger', 'annoyance', 'approval', 'caring', 'confusion', 'curiosity', \n",
    "    'desire', 'disappointment', 'disapproval', 'disgust', 'embarrassment', 'excitement', 'fear', \n",
    "    'gratitude', 'grief', 'joy', 'love', 'nervousness', 'optimism', 'pride', 'realization', 'relief', \n",
    "    'remorse', 'sadness', 'surprise', 'neutral'\n",
    "]\n",
    "\n",
    "# Create a mapping from index to emotion label (assuming the list starts with 1)\n",
    "index_to_label = {i + 1: emotion for i, emotion in enumerate(emotions)}\n",
    "\n",
    "# Read the CSV file\n",
    "df = pd.read_csv('train.csv')\n",
    "\n",
    "# Replace the label indices with label names\n",
    "df['label'] = df['label'].map(index_to_label)\n",
    "\n",
    "# Rename 'content' column to 'text'\n",
    "df.rename(columns={'content': 'text'}, inplace=True)\n",
    "\n",
    "# Save the updated DataFrame to a TSV file with the columns in the correct order\n",
    "df[['text', 'label']].to_csv('train.tsv', sep='\\t', index=False)\n"
   ]
  },
  {
   "cell_type": "code",
   "execution_count": null,
   "metadata": {},
   "outputs": [],
   "source": []
  },
  {
   "cell_type": "code",
   "execution_count": null,
   "metadata": {},
   "outputs": [],
   "source": []
  }
 ],
 "metadata": {
  "kernelspec": {
   "display_name": "gcd",
   "language": "python",
   "name": "python3"
  },
  "language_info": {
   "codemirror_mode": {
    "name": "ipython",
    "version": 3
   },
   "file_extension": ".py",
   "mimetype": "text/x-python",
   "name": "python",
   "nbconvert_exporter": "python",
   "pygments_lexer": "ipython3",
   "version": "3.8.19"
  }
 },
 "nbformat": 4,
 "nbformat_minor": 2
}
